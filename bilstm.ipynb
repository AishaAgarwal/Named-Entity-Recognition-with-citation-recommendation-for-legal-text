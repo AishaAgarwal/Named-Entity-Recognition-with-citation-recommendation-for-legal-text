{
 "cells": [
  {
   "cell_type": "code",
   "execution_count": 3,
   "metadata": {},
   "outputs": [],
   "source": [
    "import json\n",
    "from keras.models import Sequential\n",
    "from keras.layers import Bidirectional, LSTM, Dense, Embedding\n",
    "from keras.preprocessing.sequence import pad_sequences\n",
    "from keras.utils import to_categorical\n",
    "from keras.preprocessing.text import Tokenizer\n",
    "import numpy as np"
   ]
  },
  {
   "cell_type": "code",
   "execution_count": 4,
   "metadata": {},
   "outputs": [],
   "source": [
    "# Load data and labels from a JSON file\n",
    "def load_data_from_json(file_path):\n",
    "    with open(file_path, 'r') as file:\n",
    "        data = json.load(file)\n",
    "    texts = []\n",
    "    labels = []\n",
    "    for entry in data:\n",
    "        texts.append(entry['data'])\n",
    "        labels.append(entry['labels'])\n",
    "    return texts, labels\n"
   ]
  },
  {
   "cell_type": "code",
   "execution_count": 5,
   "metadata": {},
   "outputs": [],
   "source": [
    "file_path = 'extracted_data.json'  # Update with the path to your JSON dataset file\n",
    "data, labels = load_data_from_json(file_path)"
   ]
  },
  {
   "cell_type": "code",
   "execution_count": null,
   "metadata": {},
   "outputs": [],
   "source": [
    "# Define labels\n",
    "labels_set = {'CASE NUMBER', 'STATUE', 'GPE', 'COURT', 'OTHER PERSON', 'PRECEDENT', 'ORG', 'DATE', 'PETITIONER', 'JUDGE', 'WITNESS', 'RESPONDENT', 'PROVISION'}  # Define your own set of labels\n",
    "label2idx = {label: idx for idx, label in enumerate(labels_set)}"
   ]
  }
 ],
 "metadata": {
  "kernelspec": {
   "display_name": "Python 3",
   "language": "python",
   "name": "python3"
  },
  "language_info": {
   "codemirror_mode": {
    "name": "ipython",
    "version": 3
   },
   "file_extension": ".py",
   "mimetype": "text/x-python",
   "name": "python",
   "nbconvert_exporter": "python",
   "pygments_lexer": "ipython3",
   "version": "3.9.11"
  }
 },
 "nbformat": 4,
 "nbformat_minor": 2
}
